{
 "cells": [
  {
   "cell_type": "code",
   "execution_count": null,
   "id": "initial_id",
   "metadata": {
    "ExecuteTime": {
     "end_time": "2025-02-19T14:52:09.296207Z",
     "start_time": "2025-02-19T14:52:07.970475Z"
    },
    "collapsed": true
   },
   "outputs": [
    {
     "name": "stdout",
     "output_type": "stream",
     "text": [
      "File cleaned and saved: data/cleaned_customer.csv\n",
      "File cleaned and saved: data/cleaned_transaction.csv\n"
     ]
    }
   ],
   "source": [
    "import pandas as pd\n",
    "\n",
    "def clean_csv(input_file, output_file):\n",
    "    try:\n",
    "        df = pd.read_csv(input_file, delimiter=';', dtype=str)\n",
    "        \n",
    "        if df.empty:\n",
    "            print(f\"Warning: {input_file} is empty.\")\n",
    "            return\n",
    "        \n",
    "        df = df.map(lambda x: x.strip() if isinstance(x, str) else x)\n",
    "        \n",
    "        for col in df.columns:\n",
    "            if df[col].str.replace(',', '', regex=True).str.isnumeric().all():\n",
    "                df[col] = pd.to_numeric(df[col].str.replace(',', '.', regex=True), errors='coerce')\n",
    "        \n",
    "        date_columns = [col for col in df.columns if 'date' in col.lower()]\n",
    "        for col in date_columns:\n",
    "            df[col] = pd.to_datetime(df[col], format='%d.%m.%Y', errors='coerce')\n",
    "        \n",
    "        df.to_csv(output_file, index=False, sep=',', encoding='utf-8', quoting=1)\n",
    "        print(f\"File cleaned and saved: {output_file}\")\n",
    "    except Exception as e:\n",
    "        print(f\"Error processing file {input_file}: {e}\")\n",
    "\n",
    "customer_input = \"data/customer.csv\"\n",
    "transaction_input = \"data/transaction.csv\"\n",
    "customer_output = \"data/cleaned_customer.csv\"\n",
    "transaction_output = \"data/cleaned_transaction.csv\"\n",
    "\n",
    "clean_csv(customer_input, customer_output)\n",
    "clean_csv(transaction_input, transaction_output)\n"
   ]
  }
 ],
 "metadata": {
  "kernelspec": {
   "display_name": "Python 3",
   "language": "python",
   "name": "python3"
  },
  "language_info": {
   "codemirror_mode": {
    "name": "ipython",
    "version": 2
   },
   "file_extension": ".py",
   "mimetype": "text/x-python",
   "name": "python",
   "nbconvert_exporter": "python",
   "pygments_lexer": "ipython2",
   "version": "2.7.6"
  }
 },
 "nbformat": 4,
 "nbformat_minor": 5
}
